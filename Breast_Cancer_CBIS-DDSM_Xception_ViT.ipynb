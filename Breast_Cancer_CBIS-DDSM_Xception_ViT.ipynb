{
 "cells": [
  {
   "cell_type": "code",
   "execution_count": 1,
   "id": "b525a9f2",
   "metadata": {},
   "outputs": [],
   "source": [
    "# importing modules\n",
    "import os\n",
    "import gc\n",
    "import PIL\n",
    "import cv2\n",
    "import uuid\n",
    "import shutil\n",
    "import glob as gb\n",
    "import numpy as np\n",
    "import pandas as pd\n",
    "from tqdm import tqdm  # Progress bar\n",
    "import matplotlib.pyplot as plt\n",
    "%matplotlib inline\n",
    "\n",
    "\n",
    "import keras\n",
    "from sklearn.utils import shuffle\n",
    "from keras.optimizers import Adam\n",
    "from keras.regularizers import l1_l2\n",
    "from keras.utils import to_categorical\n",
    "from keras.callbacks import EarlyStopping\n",
    "from keras.models import Sequential, Model\n",
    "from keras.layers import Dense, Dropout, Input\n",
    "from keras.layers import GlobalAveragePooling2D\n",
    "from keras.callbacks import LearningRateScheduler\n",
    "from keras.layers import Conv2D, MaxPool2D, BatchNormalization\n",
    "from tensorflow.keras.preprocessing.image import ImageDataGenerator\n",
    "import random\n",
    "\n",
    "from sklearn.model_selection import train_test_split\n",
    "\n",
    "random.seed(100)"
   ]
  },
  {
   "cell_type": "code",
   "execution_count": 2,
   "id": "db91b9de",
   "metadata": {},
   "outputs": [],
   "source": [
    "#loading CBIS-DDSM dataset\n",
    "dicom_df = pd.read_csv(\"C:/Users/AIMVLab/Desktop/flodo/CNN_Breast Cancer/CBIS-DDSM/csv/dicom_info.csv\")"
   ]
  },
  {
   "cell_type": "code",
   "execution_count": 3,
   "id": "b582f346",
   "metadata": {},
   "outputs": [
    {
     "data": {
      "text/plain": [
       "0     CBIS-DDSM/jpeg/1.3.6.1.4.1.9590.100.1.2.129308...\n",
       "3     CBIS-DDSM/jpeg/1.3.6.1.4.1.9590.100.1.2.381187...\n",
       "6     CBIS-DDSM/jpeg/1.3.6.1.4.1.9590.100.1.2.153339...\n",
       "7     CBIS-DDSM/jpeg/1.3.6.1.4.1.9590.100.1.2.178994...\n",
       "10    CBIS-DDSM/jpeg/1.3.6.1.4.1.9590.100.1.2.411833...\n",
       "Name: image_path, dtype: object"
      ]
     },
     "execution_count": 3,
     "metadata": {},
     "output_type": "execute_result"
    }
   ],
   "source": [
    "#viewing cropped images\n",
    "cropped_images = dicom_df[dicom_df.SeriesDescription==\"cropped images\"].image_path\n",
    "cropped_images.head()"
   ]
  },
  {
   "cell_type": "code",
   "execution_count": 4,
   "id": "872a14d0",
   "metadata": {},
   "outputs": [
    {
     "data": {
      "text/plain": [
       "1     CBIS-DDSM/jpeg/1.3.6.1.4.1.9590.100.1.2.248386...\n",
       "2     CBIS-DDSM/jpeg/1.3.6.1.4.1.9590.100.1.2.267213...\n",
       "11    CBIS-DDSM/jpeg/1.3.6.1.4.1.9590.100.1.2.210396...\n",
       "12    CBIS-DDSM/jpeg/1.3.6.1.4.1.9590.100.1.2.749566...\n",
       "15    CBIS-DDSM/jpeg/1.3.6.1.4.1.9590.100.1.2.987658...\n",
       "Name: image_path, dtype: object"
      ]
     },
     "execution_count": 4,
     "metadata": {},
     "output_type": "execute_result"
    }
   ],
   "source": [
    "#viewing paths of full mammogram images\n",
    "full_mammogram = dicom_df[dicom_df.SeriesDescription==\"full mammogram images\"].image_path\n",
    "full_mammogram.head()"
   ]
  },
  {
   "cell_type": "code",
   "execution_count": 5,
   "id": "3082d595",
   "metadata": {},
   "outputs": [
    {
     "data": {
      "text/plain": [
       "5     CBIS-DDSM/jpeg/1.3.6.1.4.1.9590.100.1.2.153339...\n",
       "8     CBIS-DDSM/jpeg/1.3.6.1.4.1.9590.100.1.2.178994...\n",
       "9     CBIS-DDSM/jpeg/1.3.6.1.4.1.9590.100.1.2.411833...\n",
       "14    CBIS-DDSM/jpeg/1.3.6.1.4.1.9590.100.1.2.236373...\n",
       "20    CBIS-DDSM/jpeg/1.3.6.1.4.1.9590.100.1.2.357008...\n",
       "Name: image_path, dtype: object"
      ]
     },
     "execution_count": 5,
     "metadata": {},
     "output_type": "execute_result"
    }
   ],
   "source": [
    "#viewing region of interest masks paths\n",
    "roi_mask = dicom_df[dicom_df.SeriesDescription==\"ROI mask images\"].image_path\n",
    "roi_mask.head()"
   ]
  },
  {
   "cell_type": "code",
   "execution_count": 6,
   "id": "d8dc6a00",
   "metadata": {},
   "outputs": [],
   "source": [
    "def replace_path(sample, old_path, new_path):\n",
    "    return sample.replace(old_path, new_path, regex=True)"
   ]
  },
  {
   "cell_type": "code",
   "execution_count": 7,
   "id": "addfdb1a",
   "metadata": {},
   "outputs": [],
   "source": [
    "def plot_smaples(sample, row=15, col=15):\n",
    "    plt.figure(figsize=(row, col))\n",
    "    for i, file in enumerate(sample[0:5]):\n",
    "        cropped_images_show = PIL.Image.open(file)\n",
    "        gray_img= cropped_images_show.convert(\"L\")\n",
    "        plt.subplot(1,5,i+1)\n",
    "        plt.imshow(gray_img, cmap='gray')\n",
    "        plt.axis('off')\n",
    "    plt.show()"
   ]
  },
  {
   "cell_type": "code",
   "execution_count": 8,
   "id": "d434d803",
   "metadata": {},
   "outputs": [],
   "source": [
    "correct_dir = \"C:/Users/AIMVLab/Desktop/flodo/CNN_Breast Cancer/CBIS-DDSM/jpeg\""
   ]
  },
  {
   "cell_type": "code",
   "execution_count": 9,
   "id": "238b73ab",
   "metadata": {},
   "outputs": [
    {
     "name": "stdout",
     "output_type": "stream",
     "text": [
      "Cropped Images paths:\n",
      "C:/Users/AIMVLab/Desktop/flodo/CNN_Breast Cancer/CBIS-DDSM/jpeg/1.3.6.1.4.1.9590.100.1.2.129308726812851964007517874181459556304/1-172.jpg\n"
     ]
    }
   ],
   "source": [
    "cropped_images = replace_path(cropped_images, \"CBIS-DDSM/jpeg\", correct_dir)\n",
    "print('Cropped Images paths:')\n",
    "print(cropped_images.iloc[0])"
   ]
  },
  {
   "cell_type": "code",
   "execution_count": 10,
   "id": "945efecd",
   "metadata": {},
   "outputs": [
    {
     "name": "stdout",
     "output_type": "stream",
     "text": [
      "\n",
      "Full mammo Images paths:\n",
      "C:/Users/AIMVLab/Desktop/flodo/CNN_Breast Cancer/CBIS-DDSM/jpeg/1.3.6.1.4.1.9590.100.1.2.248386742010678582309005372213277814849/1-249.jpg\n"
     ]
    }
   ],
   "source": [
    "full_mammogram = replace_path(full_mammogram, \"CBIS-DDSM/jpeg\", correct_dir)\n",
    "print('\\nFull mammo Images paths:')\n",
    "print(full_mammogram.iloc[0])"
   ]
  },
  {
   "cell_type": "code",
   "execution_count": 11,
   "id": "cee89aa4",
   "metadata": {},
   "outputs": [
    {
     "name": "stdout",
     "output_type": "stream",
     "text": [
      "\n",
      "ROI Mask Images paths:\n",
      "C:/Users/AIMVLab/Desktop/flodo/CNN_Breast Cancer/CBIS-DDSM/jpeg/1.3.6.1.4.1.9590.100.1.2.153339052913121382622526066491844156138/2-270.jpg\n"
     ]
    }
   ],
   "source": [
    "roi_mask = replace_path(roi_mask, \"CBIS-DDSM/jpeg\", correct_dir)\n",
    "print('\\nROI Mask Images paths:')\n",
    "print(roi_mask.iloc[0])"
   ]
  },
  {
   "cell_type": "code",
   "execution_count": 12,
   "id": "bcafe188",
   "metadata": {},
   "outputs": [],
   "source": [
    "def get_image_file_name(data, new_dict):\n",
    "    \"\"\"\n",
    "    /kaggle\n",
    "    /input\n",
    "    /cbis-ddsm-breast-cancer-image-dataset\n",
    "    /jpeg\n",
    "    /1.3.6.1.4.1.9590.100.1.2.129308726812851964007517874181459556304 [5]\n",
    "    /1-172.jpg\n",
    "    \n",
    "    return path at index [9] after split depends on split('\\')\n",
    "    \"\"\"\n",
    "    for dicom in data:\n",
    "        key = dicom.split('/')[8]\n",
    "#         print(key)\n",
    "        new_dict[key] = dicom\n",
    "    print(f\"the length of dataset ==> {len(new_dict.keys())}\")"
   ]
  },
  {
   "cell_type": "code",
   "execution_count": 13,
   "id": "9011e63f",
   "metadata": {},
   "outputs": [
    {
     "name": "stdout",
     "output_type": "stream",
     "text": [
      "the length of dataset ==> 3567\n",
      "the length of dataset ==> 2857\n",
      "the length of dataset ==> 3247\n"
     ]
    }
   ],
   "source": [
    "cropped_images_dict = dict()\n",
    "full_mammo_dict = dict()\n",
    "roi_img_dict = dict()\n",
    "\n",
    "get_image_file_name(cropped_images, cropped_images_dict)\n",
    "get_image_file_name(full_mammogram, full_mammo_dict)\n",
    "get_image_file_name(roi_mask, roi_img_dict)"
   ]
  },
  {
   "cell_type": "code",
   "execution_count": 14,
   "id": "c02fbf4d",
   "metadata": {},
   "outputs": [],
   "source": [
    "def fix_image_path(data):\n",
    "    \"\"\"Correct dicom paths to correct image paths.\"\"\"\n",
    "    for indx, image in enumerate(data.values):\n",
    "#         print(f\"Image Path: {image[11]}\")\n",
    "\n",
    "        img_name = image[11].split('/')[2]\n",
    "#         print(f\"Looking for key: {img_name}\")  # Debugging step\n",
    "\n",
    "        if img_name in full_mammo_dict:\n",
    "            data.iloc[indx, 11] = full_mammo_dict[img_name]\n",
    "        else:\n",
    "            data.iloc[indx, 11] = None\n",
    "#             print(f\"KeyError: '{img_name}' not found in full_mammo_dict\")  # Debugging step\n",
    "        \n",
    "        img_name = image[12].split('/')[2]\n",
    "        if img_name in cropped_images_dict:\n",
    "            data.iloc[indx, 12] = cropped_images_dict[img_name]\n",
    "        else:\n",
    "            data.iloc[indx, 12] = None\n",
    "#             print(f\"KeyError: '{img_name}' not found in cropped_images_dict\")  # Debugging step"
   ]
  },
  {
   "cell_type": "code",
   "execution_count": 15,
   "id": "1e1ea7c0",
   "metadata": {},
   "outputs": [],
   "source": [
    "mass_train = pd.read_csv(\"C:/Users/AIMVLab/Desktop/flodo/CNN_Breast Cancer/CBIS-DDSM/csv/mass_case_description_train_set.csv\")\n",
    "mass_test  = pd.read_csv(\"C:/Users/AIMVLab/Desktop/flodo/CNN_Breast Cancer/CBIS-DDSM/csv/mass_case_description_test_set.csv\")"
   ]
  },
  {
   "cell_type": "code",
   "execution_count": 16,
   "id": "6112f792",
   "metadata": {},
   "outputs": [],
   "source": [
    "fix_image_path(mass_train)"
   ]
  },
  {
   "cell_type": "code",
   "execution_count": 17,
   "id": "88d83817",
   "metadata": {},
   "outputs": [],
   "source": [
    "mass_train = mass_train.rename(columns={'left or right breast': 'left_or_right_breast',\n",
    "                                        'image view': 'image_view',\n",
    "                                        'abnormality id': 'abnormality_id',\n",
    "                                        'abnormality type': 'abnormality_type',\n",
    "                                        'mass shape': 'mass_shape',\n",
    "                                        'mass margins': 'mass_margins',\n",
    "                                        'image file path': 'image_file_path',\n",
    "                                        'cropped image file path': 'cropped_image_file_path',\n",
    "                                        'ROI mask file path': 'ROI_mask_file_path'})\n"
   ]
  },
  {
   "cell_type": "code",
   "execution_count": 18,
   "id": "3e5a17ff",
   "metadata": {},
   "outputs": [],
   "source": [
    "fix_image_path(mass_test)"
   ]
  },
  {
   "cell_type": "code",
   "execution_count": 19,
   "id": "d7713f6d",
   "metadata": {},
   "outputs": [],
   "source": [
    "mass_test = mass_test.rename(columns={'left or right breast': 'left_or_right_breast',\n",
    "                                      'image view': 'image_view',\n",
    "                                      'abnormality id': 'abnormality_id',\n",
    "                                      'abnormality type': 'abnormality_type',\n",
    "                                      'mass shape': 'mass_shape',\n",
    "                                      'mass margins': 'mass_margins',\n",
    "                                      'image file path': 'image_file_path',\n",
    "                                      'cropped image file path': 'cropped_image_file_path',\n",
    "                                      'ROI mask file path': 'ROI_mask_file_path'})\n",
    "\n"
   ]
  },
  {
   "cell_type": "code",
   "execution_count": 20,
   "id": "70013574",
   "metadata": {},
   "outputs": [
    {
     "name": "stdout",
     "output_type": "stream",
     "text": [
      "Shape of mass_train: (1318, 14)\n",
      "Shape of mass_test: (378, 14)\n"
     ]
    }
   ],
   "source": [
    "print(f'Shape of mass_train: {mass_train.shape}')\n",
    "print(f'Shape of mass_test: {mass_test.shape}')"
   ]
  },
  {
   "cell_type": "code",
   "execution_count": 21,
   "id": "18f4dcb7",
   "metadata": {},
   "outputs": [],
   "source": [
    "calc_train = pd.read_csv(\"C:/Users/AIMVLab/Desktop/flodo/CNN_Breast Cancer/CBIS-DDSM/csv/calc_case_description_train_set.csv\")\n",
    "calc_test  = pd.read_csv(\"C:/Users/AIMVLab/Desktop/flodo/CNN_Breast Cancer/CBIS-DDSM/csv/calc_case_description_test_set.csv\")"
   ]
  },
  {
   "cell_type": "code",
   "execution_count": 22,
   "id": "03e044d9",
   "metadata": {},
   "outputs": [],
   "source": [
    "calc_train = calc_train.rename(columns={'left or right breast': 'left_or_right_breast',\n",
    "                                        'image view': 'image_view',\n",
    "                                        'abnormality id': 'abnormality_id',\n",
    "                                        'abnormality type': 'abnormality_type',\n",
    "                                        'mass shape': 'mass_shape',\n",
    "                                        'mass margins': 'mass_margins',\n",
    "                                        'image file path': 'image_file_path',\n",
    "                                        'cropped image file path': 'cropped_image_file_path',\n",
    "                                        'ROI mask file path': 'ROI_mask_file_path'})"
   ]
  },
  {
   "cell_type": "code",
   "execution_count": 23,
   "id": "e2a4409e",
   "metadata": {},
   "outputs": [],
   "source": [
    "fix_image_path(calc_train)"
   ]
  },
  {
   "cell_type": "code",
   "execution_count": 24,
   "id": "7614b822",
   "metadata": {},
   "outputs": [],
   "source": [
    "calc_test = calc_test.rename(columns={'left or right breast': 'left_or_right_breast',\n",
    "                                      'image view': 'image_view',\n",
    "                                      'abnormality id': 'abnormality_id',\n",
    "                                      'abnormality type': 'abnormality_type',\n",
    "                                      'mass shape': 'mass_shape',\n",
    "                                      'mass margins': 'mass_margins',\n",
    "                                      'image file path': 'image_file_path',\n",
    "                                      'cropped image file path': 'cropped_image_file_path',\n",
    "                                      'ROI mask file path': 'ROI_mask_file_path'})"
   ]
  },
  {
   "cell_type": "code",
   "execution_count": 25,
   "id": "63fa1690",
   "metadata": {},
   "outputs": [],
   "source": [
    "fix_image_path(calc_test)"
   ]
  },
  {
   "cell_type": "code",
   "execution_count": 26,
   "id": "cbd11fe0",
   "metadata": {},
   "outputs": [
    {
     "name": "stdout",
     "output_type": "stream",
     "text": [
      "Shape of mass_train: (1546, 14)\n",
      "Shape of mass_test: (326, 14)\n"
     ]
    }
   ],
   "source": [
    "print(f'Shape of mass_train: {calc_train.shape}')\n",
    "print(f'Shape of mass_test: {calc_test.shape}')"
   ]
  },
  {
   "cell_type": "code",
   "execution_count": 27,
   "id": "c065e901",
   "metadata": {},
   "outputs": [],
   "source": [
    "full_dataset = pd.concat([mass_train, mass_test, calc_train, calc_test], axis=0)"
   ]
  },
  {
   "cell_type": "code",
   "execution_count": 28,
   "id": "2514e865",
   "metadata": {},
   "outputs": [],
   "source": [
    "class_mapper = {'MALIGNANT': 1, 'BENIGN': 0, 'BENIGN_WITHOUT_CALLBACK': 0} "
   ]
  },
  {
   "cell_type": "code",
   "execution_count": 29,
   "id": "ae9c3723",
   "metadata": {},
   "outputs": [],
   "source": [
    "target_size = (112, 112, 3) #112"
   ]
  },
  {
   "cell_type": "code",
   "execution_count": 30,
   "id": "c1c18958",
   "metadata": {},
   "outputs": [
    {
     "name": "stderr",
     "output_type": "stream",
     "text": [
      "C:\\Users\\AIMVLab\\AppData\\Local\\Temp\\ipykernel_6328\\614134976.py:2: FutureWarning: Downcasting behavior in `replace` is deprecated and will be removed in a future version. To retain the old behavior, explicitly call `result.infer_objects(copy=False)`. To opt-in to the future behavior, set `pd.set_option('future.no_silent_downcasting', True)`\n",
      "  full_dataset['labels'] = full_dataset['pathology'].replace(class_mapper).infer_objects(copy=False)\n"
     ]
    }
   ],
   "source": [
    "# Apply class mapper to pathology column\n",
    "full_dataset['labels'] = full_dataset['pathology'].replace(class_mapper).infer_objects(copy=False)\n",
    "\n",
    "full_images = np.array(full_dataset[full_dataset[\"image_file_path\"].notna()][\"image_file_path\"].tolist())\n",
    "full_labels = np.array(full_dataset[full_dataset[\"image_file_path\"].notna()][\"labels\"].tolist())"
   ]
  },
  {
   "cell_type": "code",
   "execution_count": 31,
   "id": "260d3c43",
   "metadata": {},
   "outputs": [
    {
     "data": {
      "text/plain": [
       "2"
      ]
     },
     "execution_count": 31,
     "metadata": {},
     "output_type": "execute_result"
    }
   ],
   "source": [
    "num_classes = len(full_dataset['labels'].unique())\n",
    "num_classes"
   ]
  },
  {
   "cell_type": "code",
   "execution_count": 32,
   "id": "15514d86",
   "metadata": {},
   "outputs": [],
   "source": [
    "class_names = ['Benign', 'Malignant']"
   ]
  },
  {
   "cell_type": "code",
   "execution_count": 33,
   "id": "dffd5244",
   "metadata": {},
   "outputs": [
    {
     "name": "stdout",
     "output_type": "stream",
     "text": [
      "labels\n",
      "0    2111\n",
      "1    1457\n",
      "Name: count, dtype: int64\n"
     ]
    }
   ],
   "source": [
    "# Check the distribution of labels\n",
    "label_counts = full_dataset['labels'].value_counts()\n",
    "print(label_counts)"
   ]
  },
  {
   "cell_type": "code",
   "execution_count": 34,
   "id": "217d1f26",
   "metadata": {},
   "outputs": [],
   "source": [
    "def copy_images_with_unique_filenames(source_images, source_labels, destination_dir):\n",
    "    \"\"\"\n",
    "    Copy images from source to destination_dir in subfolders '0' and '1', ensuring unique filenames.\n",
    "    \"\"\"\n",
    "    benign_images = 0\n",
    "    malignant_images = 0\n",
    "    skipped_images = []\n",
    "\n",
    "    # Create the destination subfolders '0' and '1'\n",
    "    category_dest_dir_zero = os.path.join(destination_dir, '0')\n",
    "    os.makedirs(category_dest_dir_zero, exist_ok=True)\n",
    "    \n",
    "    category_dest_dir_one = os.path.join(destination_dir, '1')\n",
    "    os.makedirs(category_dest_dir_one, exist_ok=True)\n",
    "\n",
    "    # Copy all images to the appropriate folder based on the label\n",
    "    for idx, (source, label) in enumerate(zip(source_images, source_labels)):\n",
    "        if os.path.exists(source):\n",
    "            try:\n",
    "                # Generate a unique filename\n",
    "                filename = os.path.basename(source)\n",
    "                unique_filename = f\"{uuid.uuid4().hex}_{filename}\"\n",
    "                \n",
    "                if label == 0:\n",
    "                    shutil.copy(source, os.path.join(category_dest_dir_zero, unique_filename))\n",
    "                    benign_images += 1\n",
    "                elif label == 1:\n",
    "                    shutil.copy(source, os.path.join(category_dest_dir_one, unique_filename))\n",
    "                    malignant_images += 1\n",
    "                \n",
    "#                 print(f\"Copied image {idx + 1}/{len(source_images)} to class {label}\")\n",
    "            except Exception as e:\n",
    "                print(f\"Error copying image {source}: {e}\")\n",
    "                skipped_images.append(source)\n",
    "        else:\n",
    "            print(f\"Image not found: {source}\")\n",
    "            skipped_images.append(source)\n",
    "\n",
    "    # After running the function\n",
    "    print(f\"\\nCopying complete.\")\n",
    "    print(f\"Benign images copied (label 0): {benign_images}\")\n",
    "    print(f\"Malignant images copied (label 1): {malignant_images}\")\n",
    "    print(f\"Total skipped images: {len(skipped_images)}\")\n",
    "    if skipped_images:\n",
    "        print(\"Skipped images:\")\n",
    "        for img in skipped_images:\n",
    "            print(img)"
   ]
  },
  {
   "cell_type": "code",
   "execution_count": 35,
   "id": "ad9739ba",
   "metadata": {},
   "outputs": [
    {
     "name": "stdout",
     "output_type": "stream",
     "text": [
      "\n",
      "Copying complete.\n",
      "Benign images copied (label 0): 1931\n",
      "Malignant images copied (label 1): 1355\n",
      "Total skipped images: 0\n"
     ]
    }
   ],
   "source": [
    "destination_dir = \"D:/ASMA/CNN_Breast Cancer/CBIS-DDSM/marged_images\"  # Update this path as needed\n",
    "\n",
    "copy_images_with_unique_filenames(full_images, full_labels, destination_dir)"
   ]
  },
  {
   "cell_type": "code",
   "execution_count": 36,
   "id": "2c02945e",
   "metadata": {},
   "outputs": [],
   "source": [
    "def copy_images_to_destination(source_dir, destination_dir):\n",
    "    \"\"\"\n",
    "    Move or copy images from source_dir to destination_dir in subfolders '0' and '1'.\n",
    "    \"\"\"\n",
    "    # Define the categories (class labels) as '0' and '1'\n",
    "    categories = ['0', '1']\n",
    "    \n",
    "    for category in categories:\n",
    "        # Create the destination subfolder (e.g., '0' or '1') if it doesn't exist\n",
    "        category_dest_dir = os.path.join(destination_dir, category)\n",
    "        os.makedirs(category_dest_dir, exist_ok=True)\n",
    "        \n",
    "        # Path to the current category folder in the source directory\n",
    "        category_source_dir = os.path.join(source_dir, category)\n",
    "        \n",
    "        # Move or copy all images from the source category folder to the destination folder\n",
    "        for img_name in os.listdir(category_source_dir):\n",
    "            # Construct full file paths\n",
    "            img_source_path = os.path.join(category_source_dir, img_name)\n",
    "            img_dest_path = os.path.join(category_dest_dir, img_name)\n",
    "            \n",
    "            # Copy the image to the destination folder (you can use shutil.move to move instead of copy)\n",
    "            shutil.copy(img_source_path, img_dest_path)\n",
    "            \n",
    "            # Optionally, print the status\n",
    "#             print(f\"Copied {img_source_path} to {img_dest_path}\")\n"
   ]
  },
  {
   "cell_type": "code",
   "execution_count": 37,
   "id": "22131027",
   "metadata": {},
   "outputs": [],
   "source": [
    "# Define the paths to your dataset folders\n",
    "test = \"D:/ASMA/CNN_Breast Cancer/archive/test\"\n",
    "train = \"D:/ASMA/CNN_Breast Cancer/archive/train\"\n",
    "valid = \"D:/ASMA/CNN_Breast Cancer/archive/valid\"\n",
    "\n",
    "# Destination directory for the unified dataset\n",
    "destination_dir = \"D:/ASMA/CNN_Breast Cancer/CBIS-DDSM/marged_images\"  # Update this path as needed"
   ]
  },
  {
   "cell_type": "code",
   "execution_count": 38,
   "id": "c03630a7",
   "metadata": {},
   "outputs": [],
   "source": [
    "# Apply the function to each of the dataset folders (test, train, valid)\n",
    "copy_images_to_destination(test, destination_dir)\n",
    "copy_images_to_destination(train, destination_dir)\n",
    "copy_images_to_destination(valid, destination_dir)"
   ]
  },
  {
   "cell_type": "code",
   "execution_count": 39,
   "id": "af67a43d",
   "metadata": {},
   "outputs": [],
   "source": [
    "def image_processor(image_path, target_size):\n",
    "    \"\"\"Preprocess images for CNN model\"\"\"\n",
    "    if image_path:\n",
    "#         absolute_image_path = os.path.abspath(image_path)\n",
    "        image = cv2.imread(image_path)\n",
    "        \n",
    "        # Check if the image was loaded successfully\n",
    "        if image is None:\n",
    "#             print(f\"Warning: Failed to load image at {absolute_image_path}. Skipping this file.\")\n",
    "            return None\n",
    "\n",
    "        # Resize the image and normalize it\n",
    "        image = cv2.resize(image, (target_size[0], target_size[1]))\n",
    "        image_array = image / 255.0  # Normalize the image to range [0, 1]\n",
    "        return image_array\n",
    "    else:\n",
    "        return None"
   ]
  },
  {
   "cell_type": "code",
   "execution_count": 40,
   "id": "4fb37b6b",
   "metadata": {},
   "outputs": [],
   "source": [
    "# path_zero = 'D:/ASMA/CNN_Breast Cancer/CBIS-DDSM/marged_images/0'\n",
    "# path_one  = 'D:/ASMA/CNN_Breast Cancer/CBIS-DDSM/marged_images/1'\n",
    "\n",
    "# # Preprocess and collect images and labels\n",
    "# benign_images = np.array([image_processor(os.path.join(path_zero, x), (224, 224)) for x in os.listdir(path_zero)])\n",
    "# benign_labels = np.array([0] * len(benign_images))  # Label 0 for benign\n",
    "\n",
    "# malignant_images = np.array([image_processor(os.path.join(path_one, x), (224, 224)) for x in os.listdir(path_one)])\n",
    "# malignant_labels = np.array([1] * len(malignant_images))  # Label 1 for malignant"
   ]
  },
  {
   "cell_type": "code",
   "execution_count": 41,
   "id": "084d2ae9",
   "metadata": {},
   "outputs": [],
   "source": [
    "import os\n",
    "import cv2\n",
    "import numpy as np\n",
    "from concurrent.futures import ThreadPoolExecutor\n",
    "\n",
    "def image_processor(image_path, target_size):\n",
    "    \"\"\"Preprocess images for CNN model.\"\"\"\n",
    "    image = cv2.imread(image_path)\n",
    "    \n",
    "    # Check if the image was loaded successfully\n",
    "    if image is None:\n",
    "        return None\n",
    "    \n",
    "    # Resize and normalize the image\n",
    "    image = cv2.resize(image, target_size)\n",
    "    return image\n",
    "\n",
    "def load_images_from_directory(directory, target_size, label):\n",
    "    \"\"\"Load and preprocess images from a directory.\"\"\"\n",
    "    image_files = [entry.path for entry in os.scandir(directory) if entry.is_file()]\n",
    "    \n",
    "    with ThreadPoolExecutor() as executor:\n",
    "        images = list(executor.map(lambda img: image_processor(img, target_size), image_files))\n",
    "    \n",
    "    # Filter out None values in case some images failed to load\n",
    "    images = np.array([img for img in images if img is not None])\n",
    "    labels = np.full(len(images), label)\n",
    "    \n",
    "    return images, labels\n",
    "\n",
    "# Define paths and target size\n",
    "path_zero = 'D:/ASMA/CNN_Breast Cancer/CBIS-DDSM/marged_images/0'\n",
    "path_one  = 'D:/ASMA/CNN_Breast Cancer/CBIS-DDSM/marged_images/1'\n",
    "target_size = (112, 112)\n",
    "\n",
    "# Load benign and malignant images\n",
    "benign_images, benign_labels = load_images_from_directory(path_zero, target_size, label=0)\n",
    "malignant_images, malignant_labels = load_images_from_directory(path_one, target_size, label=1)\n"
   ]
  },
  {
   "cell_type": "code",
   "execution_count": 42,
   "id": "2c76a4c5",
   "metadata": {},
   "outputs": [
    {
     "name": "stdout",
     "output_type": "stream",
     "text": [
      "The Count of 0 is: (33121, 112, 112, 3)\n",
      "\n",
      "The count of 0 label is: (33121,)\n",
      "\n",
      "The count of 1 is: (22838, 112, 112, 3)\n",
      "\n",
      "The count of 1 label is: (22838,)\n"
     ]
    }
   ],
   "source": [
    "print(f\"The Count of 0 is: {benign_images.shape}\")\n",
    "print()\n",
    "print(f\"The count of 0 label is: {benign_labels.shape}\")\n",
    "print()\n",
    "print(f\"The count of 1 is: {malignant_images.shape}\")\n",
    "print()\n",
    "print(f\"The count of 1 label is: {malignant_labels.shape}\")"
   ]
  },
  {
   "cell_type": "code",
   "execution_count": 43,
   "id": "9a683c1e",
   "metadata": {},
   "outputs": [
    {
     "name": "stdout",
     "output_type": "stream",
     "text": [
      "Preprocessing complete. Images and labels combined.\n"
     ]
    }
   ],
   "source": [
    "# Concatenate images and labels\n",
    "full_images = np.concatenate([benign_images, malignant_images])\n",
    "full_labels = np.concatenate([benign_labels, malignant_labels])\n",
    "print(\"Preprocessing complete. Images and labels combined.\")"
   ]
  },
  {
   "cell_type": "code",
   "execution_count": 44,
   "id": "f5019007",
   "metadata": {},
   "outputs": [],
   "source": [
    "# Shuffle the dataset (images and labels in unison)\n",
    "full_images, full_labels = shuffle(full_images, full_labels, random_state=42)"
   ]
  },
  {
   "cell_type": "code",
   "execution_count": 45,
   "id": "544b6cef",
   "metadata": {},
   "outputs": [],
   "source": [
    "train_images, valid_images, train_labels, valid_labels = train_test_split(full_images, full_labels,test_size=0.2,random_state=40)\n",
    "valid_images, test_images, valid_labels, test_labels = train_test_split(valid_images, valid_labels,test_size=0.5,random_state=40)"
   ]
  },
  {
   "cell_type": "code",
   "execution_count": 46,
   "id": "0d3c0632",
   "metadata": {},
   "outputs": [
    {
     "name": "stdout",
     "output_type": "stream",
     "text": [
      "Train:\n",
      "(44767, 112, 112, 3)\n",
      "(44767,)\n",
      "Valid:\n",
      "(5596, 112, 112, 3)\n",
      "(5596,)\n",
      "Test:\n",
      "(5596, 112, 112, 3)\n",
      "(5596,)\n"
     ]
    }
   ],
   "source": [
    "print(\"Train:\")\n",
    "print(train_images.shape)\n",
    "print(train_labels.shape)\n",
    "print(\"Valid:\")\n",
    "print(valid_images.shape)\n",
    "print(valid_labels.shape)\n",
    "print(\"Test:\")\n",
    "print(test_images.shape)\n",
    "print(test_labels.shape)"
   ]
  },
  {
   "cell_type": "code",
   "execution_count": 47,
   "id": "8445fef8",
   "metadata": {},
   "outputs": [
    {
     "data": {
      "image/png": "[encoded data removed]",
      "text/plain": [
       "<Figure size 640x480 with 1 Axes>"
      ]
     },
     "metadata": {},
     "output_type": "display_data"
    }
   ],
   "source": [
    "plt.imshow(train_images[10])\n",
    "plt.show()"
   ]
  },
  {
   "cell_type": "code",
   "execution_count": 48,
   "id": "2440b60d",
   "metadata": {},
   "outputs": [],
   "source": [
    "num_classes = 2\n",
    "\n",
    "train_labels = to_categorical(train_labels, num_classes)\n",
    "test_labels  = to_categorical(test_labels, num_classes)\n",
    "valid_labels = to_categorical(valid_labels, num_classes)"
   ]
  },
  {
   "cell_type": "code",
   "execution_count": 49,
   "id": "ccea5a04",
   "metadata": {},
   "outputs": [
    {
     "name": "stdout",
     "output_type": "stream",
     "text": [
      "Model: \"model\"\n",
      "__________________________________________________________________________________________________\n",
      " Layer (type)                   Output Shape         Param #     Connected to                     \n",
      "==================================================================================================\n",
      " input_1 (InputLayer)           [(None, 112, 112, 3  0           []                               \n",
      "                                )]                                                                \n",
      "                                                                                                  \n",
      " block1_conv1 (Conv2D)          (None, 55, 55, 32)   864         ['input_1[0][0]']                \n",
      "                                                                                                  \n",
      " block1_conv1_bn (BatchNormaliz  (None, 55, 55, 32)  128         ['block1_conv1[0][0]']           \n",
      " ation)                                                                                           \n",
      "                                                                                                  \n",
      " block1_conv1_act (Activation)  (None, 55, 55, 32)   0           ['block1_conv1_bn[0][0]']        \n",
      "                                                                                                  \n",
      " block1_conv2 (Conv2D)          (None, 53, 53, 64)   18432       ['block1_conv1_act[0][0]']       \n",
      "                                                                                                  \n",
      " block1_conv2_bn (BatchNormaliz  (None, 53, 53, 64)  256         ['block1_conv2[0][0]']           \n",
      " ation)                                                                                           \n",
      "                                                                                                  \n",
      " block1_conv2_act (Activation)  (None, 53, 53, 64)   0           ['block1_conv2_bn[0][0]']        \n",
      "                                                                                                  \n",
      " block2_sepconv1 (SeparableConv  (None, 53, 53, 128)  8768       ['block1_conv2_act[0][0]']       \n",
      " 2D)                                                                                              \n",
      "                                                                                                  \n",
      " block2_sepconv1_bn (BatchNorma  (None, 53, 53, 128)  512        ['block2_sepconv1[0][0]']        \n",
      " lization)                                                                                        \n",
      "                                                                                                  \n",
      " block2_sepconv2_act (Activatio  (None, 53, 53, 128)  0          ['block2_sepconv1_bn[0][0]']     \n",
      " n)                                                                                               \n",
      "                                                                                                  \n",
      " block2_sepconv2 (SeparableConv  (None, 53, 53, 128)  17536      ['block2_sepconv2_act[0][0]']    \n",
      " 2D)                                                                                              \n",
      "                                                                                                  \n",
      " block2_sepconv2_bn (BatchNorma  (None, 53, 53, 128)  512        ['block2_sepconv2[0][0]']        \n",
      " lization)                                                                                        \n",
      "                                                                                                  \n",
      " conv2d (Conv2D)                (None, 27, 27, 128)  8192        ['block1_conv2_act[0][0]']       \n",
      "                                                                                                  \n",
      " block2_pool (MaxPooling2D)     (None, 27, 27, 128)  0           ['block2_sepconv2_bn[0][0]']     \n",
      "                                                                                                  \n",
      " batch_normalization (BatchNorm  (None, 27, 27, 128)  512        ['conv2d[0][0]']                 \n",
      " alization)                                                                                       \n",
      "                                                                                                  \n",
      " add (Add)                      (None, 27, 27, 128)  0           ['block2_pool[0][0]',            \n",
      "                                                                  'batch_normalization[0][0]']    \n",
      "                                                                                                  \n",
      " block3_sepconv1_act (Activatio  (None, 27, 27, 128)  0          ['add[0][0]']                    \n",
      " n)                                                                                               \n",
      "                                                                                                  \n",
      " block3_sepconv1 (SeparableConv  (None, 27, 27, 256)  33920      ['block3_sepconv1_act[0][0]']    \n",
      " 2D)                                                                                              \n",
      "                                                                                                  \n",
      " block3_sepconv1_bn (BatchNorma  (None, 27, 27, 256)  1024       ['block3_sepconv1[0][0]']        \n",
      " lization)                                                                                        \n",
      "                                                                                                  \n",
      " block3_sepconv2_act (Activatio  (None, 27, 27, 256)  0          ['block3_sepconv1_bn[0][0]']     \n",
      " n)                                                                                               \n",
      "                                                                                                  \n",
      " block3_sepconv2 (SeparableConv  (None, 27, 27, 256)  67840      ['block3_sepconv2_act[0][0]']    \n",
      " 2D)                                                                                              \n",
      "                                                                                                  \n",
      " block3_sepconv2_bn (BatchNorma  (None, 27, 27, 256)  1024       ['block3_sepconv2[0][0]']        \n",
      " lization)                                                                                        \n",
      "                                                                                                  \n",
      " conv2d_1 (Conv2D)              (None, 14, 14, 256)  32768       ['add[0][0]']                    \n",
      "                                                                                                  \n",
      " block3_pool (MaxPooling2D)     (None, 14, 14, 256)  0           ['block3_sepconv2_bn[0][0]']     \n",
      "                                                                                                  \n",
      " batch_normalization_1 (BatchNo  (None, 14, 14, 256)  1024       ['conv2d_1[0][0]']               \n",
      " rmalization)                                                                                     \n",
      "                                                                                                  \n",
      " add_1 (Add)                    (None, 14, 14, 256)  0           ['block3_pool[0][0]',            \n",
      "                                                                  'batch_normalization_1[0][0]']  \n",
      "                                                                                                  \n",
      " block4_sepconv1_act (Activatio  (None, 14, 14, 256)  0          ['add_1[0][0]']                  \n",
      " n)                                                                                               \n",
      "                                                                                                  \n",
      " block4_sepconv1 (SeparableConv  (None, 14, 14, 728)  188672     ['block4_sepconv1_act[0][0]']    \n",
      " 2D)                                                                                              \n",
      "                                                                                                  \n",
      " block4_sepconv1_bn (BatchNorma  (None, 14, 14, 728)  2912       ['block4_sepconv1[0][0]']        \n",
      " lization)                                                                                        \n",
      "                                                                                                  \n",
      " block4_sepconv2_act (Activatio  (None, 14, 14, 728)  0          ['block4_sepconv1_bn[0][0]']     \n"
     ]
    },
    {
     "name": "stdout",
     "output_type": "stream",
     "text": [
      " n)                                                                                               \n",
      "                                                                                                  \n",
      " block4_sepconv2 (SeparableConv  (None, 14, 14, 728)  536536     ['block4_sepconv2_act[0][0]']    \n",
      " 2D)                                                                                              \n",
      "                                                                                                  \n",
      " block4_sepconv2_bn (BatchNorma  (None, 14, 14, 728)  2912       ['block4_sepconv2[0][0]']        \n",
      " lization)                                                                                        \n",
      "                                                                                                  \n",
      " conv2d_2 (Conv2D)              (None, 7, 7, 728)    186368      ['add_1[0][0]']                  \n",
      "                                                                                                  \n",
      " block4_pool (MaxPooling2D)     (None, 7, 7, 728)    0           ['block4_sepconv2_bn[0][0]']     \n",
      "                                                                                                  \n",
      " batch_normalization_2 (BatchNo  (None, 7, 7, 728)   2912        ['conv2d_2[0][0]']               \n",
      " rmalization)                                                                                     \n",
      "                                                                                                  \n",
      " add_2 (Add)                    (None, 7, 7, 728)    0           ['block4_pool[0][0]',            \n",
      "                                                                  'batch_normalization_2[0][0]']  \n",
      "                                                                                                  \n",
      " block5_sepconv1_act (Activatio  (None, 7, 7, 728)   0           ['add_2[0][0]']                  \n",
      " n)                                                                                               \n",
      "                                                                                                  \n",
      " block5_sepconv1 (SeparableConv  (None, 7, 7, 728)   536536      ['block5_sepconv1_act[0][0]']    \n",
      " 2D)                                                                                              \n",
      "                                                                                                  \n",
      " block5_sepconv1_bn (BatchNorma  (None, 7, 7, 728)   2912        ['block5_sepconv1[0][0]']        \n",
      " lization)                                                                                        \n",
      "                                                                                                  \n",
      " block5_sepconv2_act (Activatio  (None, 7, 7, 728)   0           ['block5_sepconv1_bn[0][0]']     \n",
      " n)                                                                                               \n",
      "                                                                                                  \n",
      " block5_sepconv2 (SeparableConv  (None, 7, 7, 728)   536536      ['block5_sepconv2_act[0][0]']    \n",
      " 2D)                                                                                              \n",
      "                                                                                                  \n",
      " block5_sepconv2_bn (BatchNorma  (None, 7, 7, 728)   2912        ['block5_sepconv2[0][0]']        \n",
      " lization)                                                                                        \n",
      "                                                                                                  \n",
      " block5_sepconv3_act (Activatio  (None, 7, 7, 728)   0           ['block5_sepconv2_bn[0][0]']     \n",
      " n)                                                                                               \n",
      "                                                                                                  \n",
      " block5_sepconv3 (SeparableConv  (None, 7, 7, 728)   536536      ['block5_sepconv3_act[0][0]']    \n",
      " 2D)                                                                                              \n",
      "                                                                                                  \n",
      " block5_sepconv3_bn (BatchNorma  (None, 7, 7, 728)   2912        ['block5_sepconv3[0][0]']        \n",
      " lization)                                                                                        \n",
      "                                                                                                  \n",
      " add_3 (Add)                    (None, 7, 7, 728)    0           ['block5_sepconv3_bn[0][0]',     \n",
      "                                                                  'add_2[0][0]']                  \n",
      "                                                                                                  \n",
      " block6_sepconv1_act (Activatio  (None, 7, 7, 728)   0           ['add_3[0][0]']                  \n",
      " n)                                                                                               \n",
      "                                                                                                  \n",
      " block6_sepconv1 (SeparableConv  (None, 7, 7, 728)   536536      ['block6_sepconv1_act[0][0]']    \n",
      " 2D)                                                                                              \n",
      "                                                                                                  \n",
      " block6_sepconv1_bn (BatchNorma  (None, 7, 7, 728)   2912        ['block6_sepconv1[0][0]']        \n",
      " lization)                                                                                        \n",
      "                                                                                                  \n",
      " block6_sepconv2_act (Activatio  (None, 7, 7, 728)   0           ['block6_sepconv1_bn[0][0]']     \n",
      " n)                                                                                               \n",
      "                                                                                                  \n",
      " block6_sepconv2 (SeparableConv  (None, 7, 7, 728)   536536      ['block6_sepconv2_act[0][0]']    \n",
      " 2D)                                                                                              \n",
      "                                                                                                  \n",
      " block6_sepconv2_bn (BatchNorma  (None, 7, 7, 728)   2912        ['block6_sepconv2[0][0]']        \n",
      " lization)                                                                                        \n",
      "                                                                                                  \n",
      " block6_sepconv3_act (Activatio  (None, 7, 7, 728)   0           ['block6_sepconv2_bn[0][0]']     \n",
      " n)                                                                                               \n",
      "                                                                                                  \n",
      " block6_sepconv3 (SeparableConv  (None, 7, 7, 728)   536536      ['block6_sepconv3_act[0][0]']    \n",
      " 2D)                                                                                              \n",
      "                                                                                                  \n",
      " block6_sepconv3_bn (BatchNorma  (None, 7, 7, 728)   2912        ['block6_sepconv3[0][0]']        \n",
      " lization)                                                                                        \n",
      "                                                                                                  \n",
      " add_4 (Add)                    (None, 7, 7, 728)    0           ['block6_sepconv3_bn[0][0]',     \n",
      "                                                                  'add_3[0][0]']                  \n",
      "                                                                                                  \n",
      " block7_sepconv1_act (Activatio  (None, 7, 7, 728)   0           ['add_4[0][0]']                  \n",
      " n)                                                                                               \n",
      "                                                                                                  \n",
      " block7_sepconv1 (SeparableConv  (None, 7, 7, 728)   536536      ['block7_sepconv1_act[0][0]']    \n",
      " 2D)                                                                                              \n"
     ]
    },
    {
     "name": "stdout",
     "output_type": "stream",
     "text": [
      "                                                                                                  \n",
      " block7_sepconv1_bn (BatchNorma  (None, 7, 7, 728)   2912        ['block7_sepconv1[0][0]']        \n",
      " lization)                                                                                        \n",
      "                                                                                                  \n",
      " block7_sepconv2_act (Activatio  (None, 7, 7, 728)   0           ['block7_sepconv1_bn[0][0]']     \n",
      " n)                                                                                               \n",
      "                                                                                                  \n",
      " block7_sepconv2 (SeparableConv  (None, 7, 7, 728)   536536      ['block7_sepconv2_act[0][0]']    \n",
      " 2D)                                                                                              \n",
      "                                                                                                  \n",
      " block7_sepconv2_bn (BatchNorma  (None, 7, 7, 728)   2912        ['block7_sepconv2[0][0]']        \n",
      " lization)                                                                                        \n",
      "                                                                                                  \n",
      " block7_sepconv3_act (Activatio  (None, 7, 7, 728)   0           ['block7_sepconv2_bn[0][0]']     \n",
      " n)                                                                                               \n",
      "                                                                                                  \n",
      " block7_sepconv3 (SeparableConv  (None, 7, 7, 728)   536536      ['block7_sepconv3_act[0][0]']    \n",
      " 2D)                                                                                              \n",
      "                                                                                                  \n",
      " block7_sepconv3_bn (BatchNorma  (None, 7, 7, 728)   2912        ['block7_sepconv3[0][0]']        \n",
      " lization)                                                                                        \n",
      "                                                                                                  \n",
      " add_5 (Add)                    (None, 7, 7, 728)    0           ['block7_sepconv3_bn[0][0]',     \n",
      "                                                                  'add_4[0][0]']                  \n",
      "                                                                                                  \n",
      " block8_sepconv1_act (Activatio  (None, 7, 7, 728)   0           ['add_5[0][0]']                  \n",
      " n)                                                                                               \n",
      "                                                                                                  \n",
      " block8_sepconv1 (SeparableConv  (None, 7, 7, 728)   536536      ['block8_sepconv1_act[0][0]']    \n",
      " 2D)                                                                                              \n",
      "                                                                                                  \n",
      " block8_sepconv1_bn (BatchNorma  (None, 7, 7, 728)   2912        ['block8_sepconv1[0][0]']        \n",
      " lization)                                                                                        \n",
      "                                                                                                  \n",
      " block8_sepconv2_act (Activatio  (None, 7, 7, 728)   0           ['block8_sepconv1_bn[0][0]']     \n",
      " n)                                                                                               \n",
      "                                                                                                  \n",
      " block8_sepconv2 (SeparableConv  (None, 7, 7, 728)   536536      ['block8_sepconv2_act[0][0]']    \n",
      " 2D)                                                                                              \n",
      "                                                                                                  \n",
      " block8_sepconv2_bn (BatchNorma  (None, 7, 7, 728)   2912        ['block8_sepconv2[0][0]']        \n",
      " lization)                                                                                        \n",
      "                                                                                                  \n",
      " block8_sepconv3_act (Activatio  (None, 7, 7, 728)   0           ['block8_sepconv2_bn[0][0]']     \n",
      " n)                                                                                               \n",
      "                                                                                                  \n",
      " block8_sepconv3 (SeparableConv  (None, 7, 7, 728)   536536      ['block8_sepconv3_act[0][0]']    \n",
      " 2D)                                                                                              \n",
      "                                                                                                  \n",
      " block8_sepconv3_bn (BatchNorma  (None, 7, 7, 728)   2912        ['block8_sepconv3[0][0]']        \n",
      " lization)                                                                                        \n",
      "                                                                                                  \n",
      " add_6 (Add)                    (None, 7, 7, 728)    0           ['block8_sepconv3_bn[0][0]',     \n",
      "                                                                  'add_5[0][0]']                  \n",
      "                                                                                                  \n",
      " block9_sepconv1_act (Activatio  (None, 7, 7, 728)   0           ['add_6[0][0]']                  \n",
      " n)                                                                                               \n",
      "                                                                                                  \n",
      " block9_sepconv1 (SeparableConv  (None, 7, 7, 728)   536536      ['block9_sepconv1_act[0][0]']    \n",
      " 2D)                                                                                              \n",
      "                                                                                                  \n",
      " block9_sepconv1_bn (BatchNorma  (None, 7, 7, 728)   2912        ['block9_sepconv1[0][0]']        \n",
      " lization)                                                                                        \n",
      "                                                                                                  \n",
      " block9_sepconv2_act (Activatio  (None, 7, 7, 728)   0           ['block9_sepconv1_bn[0][0]']     \n",
      " n)                                                                                               \n",
      "                                                                                                  \n",
      " block9_sepconv2 (SeparableConv  (None, 7, 7, 728)   536536      ['block9_sepconv2_act[0][0]']    \n",
      " 2D)                                                                                              \n",
      "                                                                                                  \n",
      " block9_sepconv2_bn (BatchNorma  (None, 7, 7, 728)   2912        ['block9_sepconv2[0][0]']        \n",
      " lization)                                                                                        \n",
      "                                                                                                  \n",
      " block9_sepconv3_act (Activatio  (None, 7, 7, 728)   0           ['block9_sepconv2_bn[0][0]']     \n",
      " n)                                                                                               \n",
      "                                                                                                  \n",
      " block9_sepconv3 (SeparableConv  (None, 7, 7, 728)   536536      ['block9_sepconv3_act[0][0]']    \n",
      " 2D)                                                                                              \n",
      "                                                                                                  \n",
      " block9_sepconv3_bn (BatchNorma  (None, 7, 7, 728)   2912        ['block9_sepconv3[0][0]']        \n",
      " lization)                                                                                        \n",
      "                                                                                                  \n",
      " add_7 (Add)                    (None, 7, 7, 728)    0           ['block9_sepconv3_bn[0][0]',     \n"
     ]
    },
    {
     "name": "stdout",
     "output_type": "stream",
     "text": [
      "                                                                  'add_6[0][0]']                  \n",
      "                                                                                                  \n",
      " block10_sepconv1_act (Activati  (None, 7, 7, 728)   0           ['add_7[0][0]']                  \n",
      " on)                                                                                              \n",
      "                                                                                                  \n",
      " block10_sepconv1 (SeparableCon  (None, 7, 7, 728)   536536      ['block10_sepconv1_act[0][0]']   \n",
      " v2D)                                                                                             \n",
      "                                                                                                  \n",
      " block10_sepconv1_bn (BatchNorm  (None, 7, 7, 728)   2912        ['block10_sepconv1[0][0]']       \n",
      " alization)                                                                                       \n",
      "                                                                                                  \n",
      " block10_sepconv2_act (Activati  (None, 7, 7, 728)   0           ['block10_sepconv1_bn[0][0]']    \n",
      " on)                                                                                              \n",
      "                                                                                                  \n",
      " block10_sepconv2 (SeparableCon  (None, 7, 7, 728)   536536      ['block10_sepconv2_act[0][0]']   \n",
      " v2D)                                                                                             \n",
      "                                                                                                  \n",
      " block10_sepconv2_bn (BatchNorm  (None, 7, 7, 728)   2912        ['block10_sepconv2[0][0]']       \n",
      " alization)                                                                                       \n",
      "                                                                                                  \n",
      " block10_sepconv3_act (Activati  (None, 7, 7, 728)   0           ['block10_sepconv2_bn[0][0]']    \n",
      " on)                                                                                              \n",
      "                                                                                                  \n",
      " block10_sepconv3 (SeparableCon  (None, 7, 7, 728)   536536      ['block10_sepconv3_act[0][0]']   \n",
      " v2D)                                                                                             \n",
      "                                                                                                  \n",
      " block10_sepconv3_bn (BatchNorm  (None, 7, 7, 728)   2912        ['block10_sepconv3[0][0]']       \n",
      " alization)                                                                                       \n",
      "                                                                                                  \n",
      " add_8 (Add)                    (None, 7, 7, 728)    0           ['block10_sepconv3_bn[0][0]',    \n",
      "                                                                  'add_7[0][0]']                  \n",
      "                                                                                                  \n",
      " block11_sepconv1_act (Activati  (None, 7, 7, 728)   0           ['add_8[0][0]']                  \n",
      " on)                                                                                              \n",
      "                                                                                                  \n",
      " block11_sepconv1 (SeparableCon  (None, 7, 7, 728)   536536      ['block11_sepconv1_act[0][0]']   \n",
      " v2D)                                                                                             \n",
      "                                                                                                  \n",
      " block11_sepconv1_bn (BatchNorm  (None, 7, 7, 728)   2912        ['block11_sepconv1[0][0]']       \n",
      " alization)                                                                                       \n",
      "                                                                                                  \n",
      " block11_sepconv2_act (Activati  (None, 7, 7, 728)   0           ['block11_sepconv1_bn[0][0]']    \n",
      " on)                                                                                              \n",
      "                                                                                                  \n",
      " block11_sepconv2 (SeparableCon  (None, 7, 7, 728)   536536      ['block11_sepconv2_act[0][0]']   \n",
      " v2D)                                                                                             \n",
      "                                                                                                  \n",
      " block11_sepconv2_bn (BatchNorm  (None, 7, 7, 728)   2912        ['block11_sepconv2[0][0]']       \n",
      " alization)                                                                                       \n",
      "                                                                                                  \n",
      " block11_sepconv3_act (Activati  (None, 7, 7, 728)   0           ['block11_sepconv2_bn[0][0]']    \n",
      " on)                                                                                              \n",
      "                                                                                                  \n",
      " block11_sepconv3 (SeparableCon  (None, 7, 7, 728)   536536      ['block11_sepconv3_act[0][0]']   \n",
      " v2D)                                                                                             \n",
      "                                                                                                  \n",
      " block11_sepconv3_bn (BatchNorm  (None, 7, 7, 728)   2912        ['block11_sepconv3[0][0]']       \n",
      " alization)                                                                                       \n",
      "                                                                                                  \n",
      " add_9 (Add)                    (None, 7, 7, 728)    0           ['block11_sepconv3_bn[0][0]',    \n",
      "                                                                  'add_8[0][0]']                  \n",
      "                                                                                                  \n",
      " block12_sepconv1_act (Activati  (None, 7, 7, 728)   0           ['add_9[0][0]']                  \n",
      " on)                                                                                              \n",
      "                                                                                                  \n",
      " block12_sepconv1 (SeparableCon  (None, 7, 7, 728)   536536      ['block12_sepconv1_act[0][0]']   \n",
      " v2D)                                                                                             \n",
      "                                                                                                  \n",
      " block12_sepconv1_bn (BatchNorm  (None, 7, 7, 728)   2912        ['block12_sepconv1[0][0]']       \n",
      " alization)                                                                                       \n",
      "                                                                                                  \n",
      " block12_sepconv2_act (Activati  (None, 7, 7, 728)   0           ['block12_sepconv1_bn[0][0]']    \n",
      " on)                                                                                              \n",
      "                                                                                                  \n",
      " block12_sepconv2 (SeparableCon  (None, 7, 7, 728)   536536      ['block12_sepconv2_act[0][0]']   \n",
      " v2D)                                                                                             \n",
      "                                                                                                  \n",
      " block12_sepconv2_bn (BatchNorm  (None, 7, 7, 728)   2912        ['block12_sepconv2[0][0]']       \n",
      " alization)                                                                                       \n",
      "                                                                                                  \n",
      " block12_sepconv3_act (Activati  (None, 7, 7, 728)   0           ['block12_sepconv2_bn[0][0]']    \n",
      " on)                                                                                              \n",
      "                                                                                                  \n"
     ]
    },
    {
     "name": "stdout",
     "output_type": "stream",
     "text": [
      " block12_sepconv3 (SeparableCon  (None, 7, 7, 728)   536536      ['block12_sepconv3_act[0][0]']   \n",
      " v2D)                                                                                             \n",
      "                                                                                                  \n",
      " block12_sepconv3_bn (BatchNorm  (None, 7, 7, 728)   2912        ['block12_sepconv3[0][0]']       \n",
      " alization)                                                                                       \n",
      "                                                                                                  \n",
      " add_10 (Add)                   (None, 7, 7, 728)    0           ['block12_sepconv3_bn[0][0]',    \n",
      "                                                                  'add_9[0][0]']                  \n",
      "                                                                                                  \n",
      " block13_sepconv1_act (Activati  (None, 7, 7, 728)   0           ['add_10[0][0]']                 \n",
      " on)                                                                                              \n",
      "                                                                                                  \n",
      " block13_sepconv1 (SeparableCon  (None, 7, 7, 728)   536536      ['block13_sepconv1_act[0][0]']   \n",
      " v2D)                                                                                             \n",
      "                                                                                                  \n",
      " block13_sepconv1_bn (BatchNorm  (None, 7, 7, 728)   2912        ['block13_sepconv1[0][0]']       \n",
      " alization)                                                                                       \n",
      "                                                                                                  \n",
      " block13_sepconv2_act (Activati  (None, 7, 7, 728)   0           ['block13_sepconv1_bn[0][0]']    \n",
      " on)                                                                                              \n",
      "                                                                                                  \n",
      " block13_sepconv2 (SeparableCon  (None, 7, 7, 1024)  752024      ['block13_sepconv2_act[0][0]']   \n",
      " v2D)                                                                                             \n",
      "                                                                                                  \n",
      " block13_sepconv2_bn (BatchNorm  (None, 7, 7, 1024)  4096        ['block13_sepconv2[0][0]']       \n",
      " alization)                                                                                       \n",
      "                                                                                                  \n",
      " conv2d_3 (Conv2D)              (None, 4, 4, 1024)   745472      ['add_10[0][0]']                 \n",
      "                                                                                                  \n",
      " block13_pool (MaxPooling2D)    (None, 4, 4, 1024)   0           ['block13_sepconv2_bn[0][0]']    \n",
      "                                                                                                  \n",
      " batch_normalization_3 (BatchNo  (None, 4, 4, 1024)  4096        ['conv2d_3[0][0]']               \n",
      " rmalization)                                                                                     \n",
      "                                                                                                  \n",
      " add_11 (Add)                   (None, 4, 4, 1024)   0           ['block13_pool[0][0]',           \n",
      "                                                                  'batch_normalization_3[0][0]']  \n",
      "                                                                                                  \n",
      " block14_sepconv1 (SeparableCon  (None, 4, 4, 1536)  1582080     ['add_11[0][0]']                 \n",
      " v2D)                                                                                             \n",
      "                                                                                                  \n",
      " block14_sepconv1_bn (BatchNorm  (None, 4, 4, 1536)  6144        ['block14_sepconv1[0][0]']       \n",
      " alization)                                                                                       \n",
      "                                                                                                  \n",
      " block14_sepconv1_act (Activati  (None, 4, 4, 1536)  0           ['block14_sepconv1_bn[0][0]']    \n",
      " on)                                                                                              \n",
      "                                                                                                  \n",
      " block14_sepconv2 (SeparableCon  (None, 4, 4, 2048)  3159552     ['block14_sepconv1_act[0][0]']   \n",
      " v2D)                                                                                             \n",
      "                                                                                                  \n",
      " block14_sepconv2_bn (BatchNorm  (None, 4, 4, 2048)  8192        ['block14_sepconv2[0][0]']       \n",
      " alization)                                                                                       \n",
      "                                                                                                  \n",
      " block14_sepconv2_act (Activati  (None, 4, 4, 2048)  0           ['block14_sepconv2_bn[0][0]']    \n",
      " on)                                                                                              \n",
      "                                                                                                  \n",
      " conv2d_4 (Conv2D)              (None, 4, 4, 64)     8388672     ['block14_sepconv2_act[0][0]']   \n",
      "                                                                                                  \n",
      " reshape (Reshape)              (None, 16, 64)       0           ['conv2d_4[0][0]']               \n",
      "                                                                                                  \n",
      " tf.__operators__.add (TFOpLamb  (None, 16, 64)      0           ['reshape[0][0]']                \n",
      " da)                                                                                              \n",
      "                                                                                                  \n",
      " class_token (ClassToken)       (None, 1, 64)        64          ['tf.__operators__.add[0][0]']   \n",
      "                                                                                                  \n",
      " concatenate (Concatenate)      (None, 17, 64)       0           ['class_token[0][0]',            \n",
      "                                                                  'tf.__operators__.add[0][0]']   \n",
      "                                                                                                  \n",
      " layer_normalization (LayerNorm  (None, 17, 64)      128         ['concatenate[0][0]']            \n",
      " alization)                                                                                       \n",
      "                                                                                                  \n",
      " multi_head_attention (MultiHea  (None, 17, 64)      33216       ['layer_normalization[0][0]',    \n",
      " dAttention)                                                      'layer_normalization[0][0]']    \n",
      "                                                                                                  \n",
      " add_12 (Add)                   (None, 17, 64)       0           ['multi_head_attention[0][0]',   \n",
      "                                                                  'concatenate[0][0]']            \n",
      "                                                                                                  \n",
      " layer_normalization_1 (LayerNo  (None, 17, 64)      128         ['add_12[0][0]']                 \n",
      " rmalization)                                                                                     \n",
      "                                                                                                  \n",
      " dense (Dense)                  (None, 17, 128)      8320        ['layer_normalization_1[0][0]']  \n",
      "                                                                                                  \n",
      " dropout (Dropout)              (None, 17, 128)      0           ['dense[0][0]']                  \n",
      "                                                                                                  \n"
     ]
    },
    {
     "name": "stdout",
     "output_type": "stream",
     "text": [
      " dense_1 (Dense)                (None, 17, 64)       8256        ['dropout[0][0]']                \n",
      "                                                                                                  \n",
      " dropout_1 (Dropout)            (None, 17, 64)       0           ['dense_1[0][0]']                \n",
      "                                                                                                  \n",
      " add_13 (Add)                   (None, 17, 64)       0           ['dropout_1[0][0]',              \n",
      "                                                                  'add_12[0][0]']                 \n",
      "                                                                                                  \n",
      " layer_normalization_2 (LayerNo  (None, 17, 64)      128         ['add_13[0][0]']                 \n",
      " rmalization)                                                                                     \n",
      "                                                                                                  \n",
      " multi_head_attention_1 (MultiH  (None, 17, 64)      33216       ['layer_normalization_2[0][0]',  \n",
      " eadAttention)                                                    'layer_normalization_2[0][0]']  \n",
      "                                                                                                  \n",
      " add_14 (Add)                   (None, 17, 64)       0           ['multi_head_attention_1[0][0]', \n",
      "                                                                  'add_13[0][0]']                 \n",
      "                                                                                                  \n",
      " layer_normalization_3 (LayerNo  (None, 17, 64)      128         ['add_14[0][0]']                 \n",
      " rmalization)                                                                                     \n",
      "                                                                                                  \n",
      " dense_2 (Dense)                (None, 17, 128)      8320        ['layer_normalization_3[0][0]']  \n",
      "                                                                                                  \n",
      " dropout_2 (Dropout)            (None, 17, 128)      0           ['dense_2[0][0]']                \n",
      "                                                                                                  \n",
      " dense_3 (Dense)                (None, 17, 64)       8256        ['dropout_2[0][0]']              \n",
      "                                                                                                  \n",
      " dropout_3 (Dropout)            (None, 17, 64)       0           ['dense_3[0][0]']                \n",
      "                                                                                                  \n",
      " add_15 (Add)                   (None, 17, 64)       0           ['dropout_3[0][0]',              \n",
      "                                                                  'add_14[0][0]']                 \n",
      "                                                                                                  \n",
      " layer_normalization_4 (LayerNo  (None, 17, 64)      128         ['add_15[0][0]']                 \n",
      " rmalization)                                                                                     \n",
      "                                                                                                  \n",
      " multi_head_attention_2 (MultiH  (None, 17, 64)      33216       ['layer_normalization_4[0][0]',  \n",
      " eadAttention)                                                    'layer_normalization_4[0][0]']  \n",
      "                                                                                                  \n",
      " add_16 (Add)                   (None, 17, 64)       0           ['multi_head_attention_2[0][0]', \n",
      "                                                                  'add_15[0][0]']                 \n",
      "                                                                                                  \n",
      " layer_normalization_5 (LayerNo  (None, 17, 64)      128         ['add_16[0][0]']                 \n",
      " rmalization)                                                                                     \n",
      "                                                                                                  \n",
      " dense_4 (Dense)                (None, 17, 128)      8320        ['layer_normalization_5[0][0]']  \n",
      "                                                                                                  \n",
      " dropout_4 (Dropout)            (None, 17, 128)      0           ['dense_4[0][0]']                \n",
      "                                                                                                  \n",
      " dense_5 (Dense)                (None, 17, 64)       8256        ['dropout_4[0][0]']              \n",
      "                                                                                                  \n",
      " dropout_5 (Dropout)            (None, 17, 64)       0           ['dense_5[0][0]']                \n",
      "                                                                                                  \n",
      " add_17 (Add)                   (None, 17, 64)       0           ['dropout_5[0][0]',              \n",
      "                                                                  'add_16[0][0]']                 \n",
      "                                                                                                  \n",
      " layer_normalization_6 (LayerNo  (None, 17, 64)      128         ['add_17[0][0]']                 \n",
      " rmalization)                                                                                     \n",
      "                                                                                                  \n",
      " multi_head_attention_3 (MultiH  (None, 17, 64)      33216       ['layer_normalization_6[0][0]',  \n",
      " eadAttention)                                                    'layer_normalization_6[0][0]']  \n",
      "                                                                                                  \n",
      " add_18 (Add)                   (None, 17, 64)       0           ['multi_head_attention_3[0][0]', \n",
      "                                                                  'add_17[0][0]']                 \n",
      "                                                                                                  \n",
      " layer_normalization_7 (LayerNo  (None, 17, 64)      128         ['add_18[0][0]']                 \n",
      " rmalization)                                                                                     \n",
      "                                                                                                  \n",
      " dense_6 (Dense)                (None, 17, 128)      8320        ['layer_normalization_7[0][0]']  \n",
      "                                                                                                  \n",
      " dropout_6 (Dropout)            (None, 17, 128)      0           ['dense_6[0][0]']                \n",
      "                                                                                                  \n",
      " dense_7 (Dense)                (None, 17, 64)       8256        ['dropout_6[0][0]']              \n",
      "                                                                                                  \n",
      " dropout_7 (Dropout)            (None, 17, 64)       0           ['dense_7[0][0]']                \n",
      "                                                                                                  \n",
      " add_19 (Add)                   (None, 17, 64)       0           ['dropout_7[0][0]',              \n",
      "                                                                  'add_18[0][0]']                 \n",
      "                                                                                                  \n",
      " layer_normalization_8 (LayerNo  (None, 17, 64)      128         ['add_19[0][0]']                 \n",
      " rmalization)                                                                                     \n",
      "                                                                                                  \n",
      " multi_head_attention_4 (MultiH  (None, 17, 64)      33216       ['layer_normalization_8[0][0]',  \n",
      " eadAttention)                                                    'layer_normalization_8[0][0]']  \n",
      "                                                                                                  \n",
      " add_20 (Add)                   (None, 17, 64)       0           ['multi_head_attention_4[0][0]', \n"
     ]
    },
    {
     "name": "stdout",
     "output_type": "stream",
     "text": [
      "                                                                  'add_19[0][0]']                 \n",
      "                                                                                                  \n",
      " layer_normalization_9 (LayerNo  (None, 17, 64)      128         ['add_20[0][0]']                 \n",
      " rmalization)                                                                                     \n",
      "                                                                                                  \n",
      " dense_8 (Dense)                (None, 17, 128)      8320        ['layer_normalization_9[0][0]']  \n",
      "                                                                                                  \n",
      " dropout_8 (Dropout)            (None, 17, 128)      0           ['dense_8[0][0]']                \n",
      "                                                                                                  \n",
      " dense_9 (Dense)                (None, 17, 64)       8256        ['dropout_8[0][0]']              \n",
      "                                                                                                  \n",
      " dropout_9 (Dropout)            (None, 17, 64)       0           ['dense_9[0][0]']                \n",
      "                                                                                                  \n",
      " add_21 (Add)                   (None, 17, 64)       0           ['dropout_9[0][0]',              \n",
      "                                                                  'add_20[0][0]']                 \n",
      "                                                                                                  \n",
      " layer_normalization_10 (LayerN  (None, 17, 64)      128         ['add_21[0][0]']                 \n",
      " ormalization)                                                                                    \n",
      "                                                                                                  \n",
      " multi_head_attention_5 (MultiH  (None, 17, 64)      33216       ['layer_normalization_10[0][0]', \n",
      " eadAttention)                                                    'layer_normalization_10[0][0]'] \n",
      "                                                                                                  \n",
      " add_22 (Add)                   (None, 17, 64)       0           ['multi_head_attention_5[0][0]', \n",
      "                                                                  'add_21[0][0]']                 \n",
      "                                                                                                  \n",
      " layer_normalization_11 (LayerN  (None, 17, 64)      128         ['add_22[0][0]']                 \n",
      " ormalization)                                                                                    \n",
      "                                                                                                  \n",
      " dense_10 (Dense)               (None, 17, 128)      8320        ['layer_normalization_11[0][0]'] \n",
      "                                                                                                  \n",
      " dropout_10 (Dropout)           (None, 17, 128)      0           ['dense_10[0][0]']               \n",
      "                                                                                                  \n",
      " dense_11 (Dense)               (None, 17, 64)       8256        ['dropout_10[0][0]']             \n",
      "                                                                                                  \n",
      " dropout_11 (Dropout)           (None, 17, 64)       0           ['dense_11[0][0]']               \n",
      "                                                                                                  \n",
      " add_23 (Add)                   (None, 17, 64)       0           ['dropout_11[0][0]',             \n",
      "                                                                  'add_22[0][0]']                 \n",
      "                                                                                                  \n",
      " layer_normalization_12 (LayerN  (None, 17, 64)      128         ['add_23[0][0]']                 \n",
      " ormalization)                                                                                    \n",
      "                                                                                                  \n",
      " tf.__operators__.getitem (Slic  (None, 64)          0           ['layer_normalization_12[0][0]'] \n",
      " ingOpLambda)                                                                                     \n",
      "                                                                                                  \n",
      " dense_12 (Dense)               (None, 2)            130         ['tf.__operators__.getitem[0][0]'\n",
      "                                                                 ]                                \n",
      "                                                                                                  \n",
      "==================================================================================================\n",
      "Total params: 29,550,762\n",
      "Trainable params: 8,689,282\n",
      "Non-trainable params: 20,861,480\n",
      "__________________________________________________________________________________________________\n"
     ]
    }
   ],
   "source": [
    "import tensorflow as tf\n",
    "from tensorflow.keras.layers import Input, Conv2D, Reshape, Dense, Dropout, LayerNormalization, Embedding, MultiHeadAttention, Add\n",
    "from tensorflow.keras.models import Model\n",
    "from keras.layers import Concatenate\n",
    "\n",
    "# Configuration dictionary\n",
    "config = {\n",
    "    \"num_layers\": 6,\n",
    "    \"hidden_dim\": 64,\n",
    "    \"mlp_dim\": 128,\n",
    "    \"num_heads\": 2,\n",
    "    \"dropout_rate\": 0.1,\n",
    "    \"image_size\": 112,\n",
    "    \"patch_size\": 8,\n",
    "    \"num_channels\": 3,\n",
    "    \"num_classes\": 2,  # Define your number of classes here\n",
    "    \"trainable_backbone\": False  # Set to True to make CNN layers trainable\n",
    "}\n",
    "\n",
    "# Class token for Vision Transformer\n",
    "class ClassToken(tf.keras.layers.Layer):\n",
    "    def __init__(self):\n",
    "        super().__init__()\n",
    "\n",
    "    def build(self, input_shape):\n",
    "        w_init = tf.random_uniform_initializer()\n",
    "        self.w = tf.Variable(\n",
    "            initial_value=w_init(shape=(1, 1, input_shape[-1]), dtype=\"float32\"),\n",
    "            trainable=True\n",
    "        )\n",
    "\n",
    "    def call(self, inputs):\n",
    "        batch_size = tf.shape(inputs)[0]\n",
    "        hidden_dim = self.w.shape[-1]\n",
    "        cls = tf.broadcast_to(self.w, [batch_size, 1, hidden_dim])\n",
    "        cls = tf.cast(cls, dtype=inputs.dtype)\n",
    "        return cls\n",
    "\n",
    "# Transformer Encoder\n",
    "def transformer_encoder(x, cf):\n",
    "    skip_1 = x\n",
    "    x = LayerNormalization()(x)\n",
    "    x = MultiHeadAttention(\n",
    "        num_heads=cf[\"num_heads\"], key_dim=cf[\"hidden_dim\"]\n",
    "    )(x, x)\n",
    "    x = Add()([x, skip_1])\n",
    "\n",
    "    skip_2 = x\n",
    "    x = LayerNormalization()(x)\n",
    "    x = mlp(x, cf)\n",
    "    x = Add()([x, skip_2])\n",
    "    return x\n",
    "\n",
    "# MLP block\n",
    "def mlp(x, cf):\n",
    "    x = Dense(cf[\"mlp_dim\"], activation=\"gelu\")(x)\n",
    "    x = Dropout(cf[\"dropout_rate\"])(x)\n",
    "    x = Dense(cf[\"hidden_dim\"])(x)\n",
    "    x = Dropout(cf[\"dropout_rate\"])(x)\n",
    "    return x\n",
    "\n",
    "# Xception-based Vision Transformer model\n",
    "def CNNViT(cf):\n",
    "    inputs = Input((cf[\"image_size\"], cf[\"image_size\"], cf[\"num_channels\"]))\n",
    "    \n",
    "    # Load pre-trained Xception model\n",
    "    cnn = tf.keras.applications.Xception(include_top=False, weights=\"imagenet\", input_tensor=inputs)\n",
    "    \n",
    "    # Optionally make CNN layers trainable\n",
    "    for layer in cnn.layers:\n",
    "        layer.trainable = cf[\"trainable_backbone\"]\n",
    "    \n",
    "    # Extract output from the CNN backbone\n",
    "    output = cnn.output\n",
    "    \n",
    "    # Patch embedding\n",
    "    patch_embed = Conv2D(cf[\"hidden_dim\"], kernel_size=cf[\"patch_size\"], padding=\"same\")(output)\n",
    "    _, h, w, f = patch_embed.shape\n",
    "    patch_embed = Reshape((h * w, f))(patch_embed)\n",
    "\n",
    "    # Positional embedding\n",
    "    positions = tf.range(start=0, limit=h * w, delta=1)\n",
    "    pos_embed = Embedding(input_dim=h * w, output_dim=cf[\"hidden_dim\"])(positions)\n",
    "    embed = patch_embed + pos_embed\n",
    "\n",
    "    # Add the class token for transformer processing\n",
    "    token = ClassToken()(embed)\n",
    "    x = Concatenate(axis=1)([token, embed])\n",
    "\n",
    "    # Apply transformer encoders\n",
    "    for _ in range(cf[\"num_layers\"]):\n",
    "        x = transformer_encoder(x, cf)\n",
    "\n",
    "    # Layer normalization before classification\n",
    "    x = LayerNormalization()(x)\n",
    "    x = x[:, 0, :]  # Use the output from the class token\n",
    "    x = Dense(cf[\"num_classes\"], activation=\"softmax\")(x)\n",
    "\n",
    "    # Create model\n",
    "    model = Model(inputs, x)\n",
    "    return model\n",
    "\n",
    "# Build the model with trainable CNN layers set to False (or True as needed)\n",
    "model = CNNViT(config)\n",
    "model.summary()\n"
   ]
  },
  {
   "cell_type": "code",
   "execution_count": 50,
   "id": "ec610ae4",
   "metadata": {},
   "outputs": [],
   "source": [
    "import datetime\n",
    "# Compile the model\n",
    "model.compile(optimizer=tf.keras.optimizers.Adam(learning_rate=0.0001), loss=tf.losses.BinaryCrossentropy(), metrics=[\"accuracy\",\"top_k_categorical_accuracy\"])\n",
    "\n",
    "model_folder =\"D:\\\\ASMA\\\\trained_model\"\n",
    "# csv_path = os.path.join(\"files\", \"log.csv\")\n",
    "timestamp = datetime.datetime.now().strftime(\"%Y%m%d-%H%M%S\")\n",
    "\n",
    "# Define the callbacks\n",
    "callbacks = [\n",
    "    tf.keras.callbacks.ModelCheckpoint(f'{model_folder}/Breast_cancer_model_{timestamp}.keras', monitor=\"val_loss\", verbose=1, save_best_only=True),\n",
    "    tf.keras.callbacks.ReduceLROnPlateau(monitor=\"val_loss\", factor=0.1, patience=5, min_lr=1e-7),\n",
    "    # tf.keras.callbacks.CSVLogger(csv_path),\n",
    "    tf.keras.callbacks.EarlyStopping(monitor=\"val_loss\", patience=10, restore_best_weights=False)\n",
    "]\n",
    "\n",
    "# # Define the number of validation steps\n",
    "# steps_per_epoch = len(image_paths_train) // BATCH_SIZE\n",
    "# validation_steps = len(image_paths_val) // BATCH_SIZE\n"
   ]
  },
  {
   "cell_type": "code",
   "execution_count": 51,
   "id": "d45dcf93",
   "metadata": {},
   "outputs": [
    {
     "name": "stdout",
     "output_type": "stream",
     "text": [
      "Epoch 1/1000\n",
      "1399/1399 [==============================] - ETA: 0s - loss: 0.6498 - accuracy: 0.6183 - top_k_categorical_accuracy: 1.0000\n",
      "Epoch 1: val_loss improved from inf to 0.68402, saving model to D:\\ASMA\\trained_model\\Breast_cancer_model_20241018-170610.keras\n",
      "1399/1399 [==============================] - 100s 63ms/step - loss: 0.6498 - accuracy: 0.6183 - top_k_categorical_accuracy: 1.0000 - val_loss: 0.6840 - val_accuracy: 0.6401 - val_top_k_categorical_accuracy: 1.0000 - lr: 1.0000e-04\n",
      "Epoch 2/1000\n",
      "1399/1399 [==============================] - ETA: 0s - loss: 0.5115 - accuracy: 0.7352 - top_k_categorical_accuracy: 1.0000\n",
      "Epoch 2: val_loss improved from 0.68402 to 0.41421, saving model to D:\\ASMA\\trained_model\\Breast_cancer_model_20241018-170610.keras\n",
      "1399/1399 [==============================] - 85s 61ms/step - loss: 0.5115 - accuracy: 0.7352 - top_k_categorical_accuracy: 1.0000 - val_loss: 0.4142 - val_accuracy: 0.8045 - val_top_k_categorical_accuracy: 1.0000 - lr: 1.0000e-04\n",
      "Epoch 3/1000\n",
      "1399/1399 [==============================] - ETA: 0s - loss: 0.3522 - accuracy: 0.8356 - top_k_categorical_accuracy: 1.0000\n",
      "Epoch 3: val_loss improved from 0.41421 to 0.27342, saving model to D:\\ASMA\\trained_model\\Breast_cancer_model_20241018-170610.keras\n",
      "1399/1399 [==============================] - 85s 61ms/step - loss: 0.3522 - accuracy: 0.8356 - top_k_categorical_accuracy: 1.0000 - val_loss: 0.2734 - val_accuracy: 0.8751 - val_top_k_categorical_accuracy: 1.0000 - lr: 1.0000e-04\n",
      "Epoch 4/1000\n",
      "1399/1399 [==============================] - ETA: 0s - loss: 0.2130 - accuracy: 0.9088 - top_k_categorical_accuracy: 1.0000\n",
      "Epoch 4: val_loss improved from 0.27342 to 0.19915, saving model to D:\\ASMA\\trained_model\\Breast_cancer_model_20241018-170610.keras\n",
      "1399/1399 [==============================] - 86s 62ms/step - loss: 0.2130 - accuracy: 0.9088 - top_k_categorical_accuracy: 1.0000 - val_loss: 0.1991 - val_accuracy: 0.9139 - val_top_k_categorical_accuracy: 1.0000 - lr: 1.0000e-04\n",
      "Epoch 5/1000\n",
      "1399/1399 [==============================] - ETA: 0s - loss: 0.1506 - accuracy: 0.9366 - top_k_categorical_accuracy: 1.0000\n",
      "Epoch 5: val_loss improved from 0.19915 to 0.13588, saving model to D:\\ASMA\\trained_model\\Breast_cancer_model_20241018-170610.keras\n",
      "1399/1399 [==============================] - 86s 62ms/step - loss: 0.1506 - accuracy: 0.9366 - top_k_categorical_accuracy: 1.0000 - val_loss: 0.1359 - val_accuracy: 0.9446 - val_top_k_categorical_accuracy: 1.0000 - lr: 1.0000e-04\n",
      "Epoch 6/1000\n",
      "1399/1399 [==============================] - ETA: 0s - loss: 0.1137 - accuracy: 0.9521 - top_k_categorical_accuracy: 1.0000\n",
      "Epoch 6: val_loss improved from 0.13588 to 0.09534, saving model to D:\\ASMA\\trained_model\\Breast_cancer_model_20241018-170610.keras\n",
      "1399/1399 [==============================] - 85s 61ms/step - loss: 0.1137 - accuracy: 0.9521 - top_k_categorical_accuracy: 1.0000 - val_loss: 0.0953 - val_accuracy: 0.9582 - val_top_k_categorical_accuracy: 1.0000 - lr: 1.0000e-04\n",
      "Epoch 7/1000\n",
      "1399/1399 [==============================] - ETA: 0s - loss: 0.0918 - accuracy: 0.9610 - top_k_categorical_accuracy: 1.0000\n",
      "Epoch 7: val_loss did not improve from 0.09534\n",
      "1399/1399 [==============================] - 84s 60ms/step - loss: 0.0918 - accuracy: 0.9610 - top_k_categorical_accuracy: 1.0000 - val_loss: 0.1082 - val_accuracy: 0.9518 - val_top_k_categorical_accuracy: 1.0000 - lr: 1.0000e-04\n",
      "Epoch 8/1000\n",
      "1399/1399 [==============================] - ETA: 0s - loss: 0.0861 - accuracy: 0.9636 - top_k_categorical_accuracy: 1.0000\n",
      "Epoch 8: val_loss improved from 0.09534 to 0.08831, saving model to D:\\ASMA\\trained_model\\Breast_cancer_model_20241018-170610.keras\n",
      "1399/1399 [==============================] - 86s 62ms/step - loss: 0.0861 - accuracy: 0.9636 - top_k_categorical_accuracy: 1.0000 - val_loss: 0.0883 - val_accuracy: 0.9637 - val_top_k_categorical_accuracy: 1.0000 - lr: 1.0000e-04\n",
      "Epoch 9/1000\n",
      "1398/1399 [============================>.] - ETA: 0s - loss: 0.0777 - accuracy: 0.9670 - top_k_categorical_accuracy: 1.0000\n",
      "Epoch 9: val_loss did not improve from 0.08831\n",
      "1399/1399 [==============================] - 84s 60ms/step - loss: 0.0777 - accuracy: 0.9670 - top_k_categorical_accuracy: 1.0000 - val_loss: 0.1001 - val_accuracy: 0.9575 - val_top_k_categorical_accuracy: 1.0000 - lr: 1.0000e-04\n",
      "Epoch 10/1000\n",
      "1398/1399 [============================>.] - ETA: 0s - loss: 0.0647 - accuracy: 0.9709 - top_k_categorical_accuracy: 1.0000\n",
      "Epoch 10: val_loss did not improve from 0.08831\n",
      "1399/1399 [==============================] - 83s 60ms/step - loss: 0.0648 - accuracy: 0.9709 - top_k_categorical_accuracy: 1.0000 - val_loss: 0.1821 - val_accuracy: 0.9401 - val_top_k_categorical_accuracy: 1.0000 - lr: 1.0000e-04\n",
      "Epoch 11/1000\n",
      "1398/1399 [============================>.] - ETA: 0s - loss: 0.0697 - accuracy: 0.9697 - top_k_categorical_accuracy: 1.0000\n",
      "Epoch 11: val_loss did not improve from 0.08831\n",
      "1399/1399 [==============================] - 84s 60ms/step - loss: 0.0697 - accuracy: 0.9697 - top_k_categorical_accuracy: 1.0000 - val_loss: 0.1305 - val_accuracy: 0.9539 - val_top_k_categorical_accuracy: 1.0000 - lr: 1.0000e-04\n",
      "Epoch 12/1000\n",
      "1399/1399 [==============================] - ETA: 0s - loss: 0.0676 - accuracy: 0.9708 - top_k_categorical_accuracy: 1.0000\n",
      "Epoch 12: val_loss did not improve from 0.08831\n",
      "1399/1399 [==============================] - 83s 60ms/step - loss: 0.0676 - accuracy: 0.9708 - top_k_categorical_accuracy: 1.0000 - val_loss: 0.1763 - val_accuracy: 0.9432 - val_top_k_categorical_accuracy: 1.0000 - lr: 1.0000e-04\n",
      "Epoch 13/1000\n",
      "1399/1399 [==============================] - ETA: 0s - loss: 0.0640 - accuracy: 0.9722 - top_k_categorical_accuracy: 1.0000\n",
      "Epoch 13: val_loss did not improve from 0.08831\n",
      "1399/1399 [==============================] - 83s 59ms/step - loss: 0.0640 - accuracy: 0.9722 - top_k_categorical_accuracy: 1.0000 - val_loss: 0.1299 - val_accuracy: 0.9535 - val_top_k_categorical_accuracy: 1.0000 - lr: 1.0000e-04\n",
      "Epoch 14/1000\n",
      "1398/1399 [============================>.] - ETA: 0s - loss: 0.0339 - accuracy: 0.9830 - top_k_categorical_accuracy: 1.0000\n",
      "Epoch 14: val_loss did not improve from 0.08831\n",
      "1399/1399 [==============================] - 83s 59ms/step - loss: 0.0339 - accuracy: 0.9830 - top_k_categorical_accuracy: 1.0000 - val_loss: 0.0932 - val_accuracy: 0.9644 - val_top_k_categorical_accuracy: 1.0000 - lr: 1.0000e-05\n",
      "Epoch 15/1000\n",
      "1399/1399 [==============================] - ETA: 0s - loss: 0.0315 - accuracy: 0.9841 - top_k_categorical_accuracy: 1.0000\n",
      "Epoch 15: val_loss did not improve from 0.08831\n",
      "1399/1399 [==============================] - 83s 60ms/step - loss: 0.0315 - accuracy: 0.9841 - top_k_categorical_accuracy: 1.0000 - val_loss: 0.0995 - val_accuracy: 0.9639 - val_top_k_categorical_accuracy: 1.0000 - lr: 1.0000e-05\n",
      "Epoch 16/1000\n",
      "1399/1399 [==============================] - ETA: 0s - loss: 0.0309 - accuracy: 0.9839 - top_k_categorical_accuracy: 1.0000\n",
      "Epoch 16: val_loss did not improve from 0.08831\n",
      "1399/1399 [==============================] - 83s 59ms/step - loss: 0.0309 - accuracy: 0.9839 - top_k_categorical_accuracy: 1.0000 - val_loss: 0.0997 - val_accuracy: 0.9635 - val_top_k_categorical_accuracy: 1.0000 - lr: 1.0000e-05\n",
      "Epoch 17/1000\n",
      "1398/1399 [============================>.] - ETA: 0s - loss: 0.0301 - accuracy: 0.9839 - top_k_categorical_accuracy: 1.0000\n",
      "Epoch 17: val_loss did not improve from 0.08831\n",
      "1399/1399 [==============================] - 83s 59ms/step - loss: 0.0301 - accuracy: 0.9839 - top_k_categorical_accuracy: 1.0000 - val_loss: 0.1056 - val_accuracy: 0.9632 - val_top_k_categorical_accuracy: 1.0000 - lr: 1.0000e-05\n",
      "Epoch 18/1000\n",
      "1399/1399 [==============================] - ETA: 0s - loss: 0.0289 - accuracy: 0.9845 - top_k_categorical_accuracy: 1.0000\n",
      "Epoch 18: val_loss did not improve from 0.08831\n",
      "1399/1399 [==============================] - 83s 60ms/step - loss: 0.0289 - accuracy: 0.9845 - top_k_categorical_accuracy: 1.0000 - val_loss: 0.1101 - val_accuracy: 0.9641 - val_top_k_categorical_accuracy: 1.0000 - lr: 1.0000e-05\n",
      "Training Time: 0 hours, 25 minutes, and 33 seconds.\n",
      "This is the End!!!\n"
     ]
    }
   ],
   "source": [
    "import time\n",
    "\n",
    "# Start the timer\n",
    "start_time = time.time()\n",
    "\n",
    "# Training the model\n",
    "history = model.fit( \n",
    "    train_images, \n",
    "    train_labels,\n",
    "    # steps_per_epoch=steps_per_epoch,\n",
    "    epochs=1000,\n",
    "    validation_data=(valid_images, valid_labels),\n",
    "    # validation_steps=validation_steps,\n",
    "    callbacks=callbacks,\n",
    "    # class_weight = class_weights\n",
    ")\n",
    "\n",
    "# Stop the timer after training completes\n",
    "end_time = time.time()\n",
    "\n",
    "# Calculate the total training time\n",
    "training_time = end_time - start_time\n",
    "\n",
    "# Print the total training time in a human-readable format (hours, minutes, seconds)\n",
    "hours, rem = divmod(training_time, 3600)\n",
    "minutes, seconds = divmod(rem, 60)\n",
    "print(f\"Training Time: {int(hours)} hours, {int(minutes)} minutes, and {int(seconds)} seconds.\")\n",
    "\n",
    "print(\"This is the End!!!\")\n"
   ]
  },
  {
   "cell_type": "code",
   "execution_count": 52,
   "id": "e8cff7d9",
   "metadata": {},
   "outputs": [
    {
     "name": "stdout",
     "output_type": "stream",
     "text": [
      "175/175 [==============================] - 7s 40ms/step - loss: 0.0988 - accuracy: 0.9682 - top_k_categorical_accuracy: 1.0000\n"
     ]
    },
    {
     "data": {
      "text/plain": [
       "[0.09884919226169586, 0.9681915640830994, 1.0]"
      ]
     },
     "execution_count": 52,
     "metadata": {},
     "output_type": "execute_result"
    }
   ],
   "source": [
    "model.evaluate(test_images, test_labels)"
   ]
  },
  {
   "cell_type": "code",
   "execution_count": 53,
   "id": "8ed8e45f",
   "metadata": {},
   "outputs": [
    {
     "data": {
      "image/png": "[encoded data removed]",
      "text/plain": [
       "<Figure size 640x480 with 1 Axes>"
      ]
     },
     "metadata": {},
     "output_type": "display_data"
    }
   ],
   "source": [
    "plt.plot(history.history['accuracy'])\n",
    "plt.plot(history.history['val_accuracy'])\n",
    "plt.title('Model Accuracy')\n",
    "plt.ylabel('accuracy')\n",
    "plt.xlabel('epoch')\n",
    "plt.legend(['train', 'validation'], loc='upper left')\n",
    "plt.show()"
   ]
  },
  {
   "cell_type": "code",
   "execution_count": 54,
   "id": "67fc2005",
   "metadata": {},
   "outputs": [
    {
     "data": {
      "image/png": "[encoded data removed]",
      "text/plain": [
       "<Figure size 640x480 with 1 Axes>"
      ]
     },
     "metadata": {},
     "output_type": "display_data"
    }
   ],
   "source": [
    "plt.plot(history.history['loss'])\n",
    "plt.plot(history.history['val_loss'])\n",
    "plt.title('Model Loss')\n",
    "plt.ylabel('loss')\n",
    "plt.xlabel('epoch')\n",
    "plt.legend(['train', 'validation'], loc='upper left')\n",
    "plt.show()"
   ]
  },
  {
   "cell_type": "code",
   "execution_count": 57,
   "id": "7d2598c0",
   "metadata": {},
   "outputs": [
    {
     "name": "stdout",
     "output_type": "stream",
     "text": [
      "5596/5596 [==============================] - 148s 26ms/step\n"
     ]
    },
    {
     "data": {
      "image/png": "[encoded data removed]",
      "text/plain": [
       "<Figure size 1000x800 with 2 Axes>"
      ]
     },
     "metadata": {},
     "output_type": "display_data"
    }
   ],
   "source": [
    "from sklearn.metrics import confusion_matrix\n",
    "import seaborn as sns\n",
    "import matplotlib.pyplot as plt\n",
    "import numpy as np\n",
    "\n",
    "# Predict using the trained model\n",
    "Y_pred = model.predict(test_images, steps=len(test_images))\n",
    "Y_pred_classes = np.argmax(Y_pred , axis=1)\n",
    "\n",
    "# Extract true labels from the test generator\n",
    "# This assumes that test_datagen is correctly set up with y_test\n",
    "Y_true = np.argmax(test_labels, axis=1)  # Modify this if your setup differs\n",
    "\n",
    "# Calculate the confusion matrix\n",
    "confusion_mtx = confusion_matrix(Y_true, Y_pred_classes)\n",
    "\n",
    "# Plot the confusion matrix\n",
    "plt.figure(figsize=(10, 8))\n",
    "ax = sns.heatmap(confusion_mtx, annot=True, fmt=\"d\", linewidths=.5, cmap=\"Blues\")\n",
    "ax.set_xlabel('Predicted Labels')\n",
    "ax.set_ylabel('True Labels')\n",
    "ax.set_title('Confusion Matrix')\n",
    "ax.xaxis.set_ticklabels(['Non-Cancer', 'Cancer'])\n",
    "ax.yaxis.set_ticklabels(['Non-Cancer', 'Cancer'])\n",
    "plt.show()\n"
   ]
  },
  {
   "cell_type": "code",
   "execution_count": 58,
   "id": "90ea351c",
   "metadata": {},
   "outputs": [
    {
     "name": "stdout",
     "output_type": "stream",
     "text": [
      "Precision: 0.98\n",
      "Recall: 0.94\n",
      "F1 Score: 0.96\n",
      "ROC AUC Score: 1.00\n"
     ]
    }
   ],
   "source": [
    "from sklearn.metrics import precision_score, recall_score, f1_score, roc_auc_score, roc_curve\n",
    "import matplotlib.pyplot as plt\n",
    "\n",
    "# Assuming Y_pred and Y_true are already defined\n",
    "# Y_pred is the output from model.predict, Y_pred_classes is obtained by np.argmax(Y_pred, axis=1)\n",
    "Y_true = np.argmax(test_labels, axis=1)  # Make sure y_test is correctly prepared\n",
    "\n",
    "# Calculate Precision, Recall, and F1 Score\n",
    "precision = precision_score(Y_true, Y_pred_classes)\n",
    "recall = recall_score(Y_true, Y_pred_classes)\n",
    "f1 = f1_score(Y_true, Y_pred_classes)\n",
    "\n",
    "# Calculate the probabilities for the positive class\n",
    "Y_pred_probs = Y_pred[:, 1]  # assuming your model outputs probabilities for each class\n",
    "\n",
    "# ROC AUC Score\n",
    "roc_auc = roc_auc_score(Y_true, Y_pred_probs)\n",
    "\n",
    "# Print the metrics\n",
    "print(f\"Precision: {precision:.2f}\")\n",
    "print(f\"Recall: {recall:.2f}\")\n",
    "print(f\"F1 Score: {f1:.2f}\")\n",
    "print(f\"ROC AUC Score: {roc_auc:.2f}\")"
   ]
  },
  {
   "cell_type": "code",
   "execution_count": 60,
   "id": "41bdea77",
   "metadata": {},
   "outputs": [
    {
     "data": {
      "image/png": "[encoded data removed]",
      "text/plain": [
       "<Figure size 800x600 with 1 Axes>"
      ]
     },
     "metadata": {},
     "output_type": "display_data"
    }
   ],
   "source": [
    "# Plot ROC Curve\n",
    "fpr, tpr, _ = roc_curve(Y_true, Y_pred_probs)\n",
    "plt.figure(figsize=(8, 6))\n",
    "plt.plot(fpr, tpr, color='darkorange', lw=2, label=f'ROC curve (area = {roc_auc:.2f})')\n",
    "plt.plot([0, 1], [0, 1], color='navy', lw=2, linestyle='--')\n",
    "plt.xlim([0.0, 1.0])\n",
    "plt.ylim([0.0, 1.05])\n",
    "plt.xlabel('False Positive Rate')\n",
    "plt.ylabel('True Positive Rate')\n",
    "plt.title('Receiver Operating Characteristic (ROC)')\n",
    "plt.legend(loc=\"lower right\")\n",
    "plt.show()\n"
   ]
  },
  {
   "cell_type": "code",
   "execution_count": 67,
   "id": "f71701de",
   "metadata": {},
   "outputs": [
    {
     "name": "stdout",
     "output_type": "stream",
     "text": [
      "175/175 [==============================] - 7s 39ms/step\n"
     ]
    },
    {
     "data": {
      "image/png": "[encoded data removed]",
      "text/plain": [
       "<Figure size 800x600 with 1 Axes>"
      ]
     },
     "metadata": {},
     "output_type": "display_data"
    }
   ],
   "source": [
    "import numpy as np\n",
    "from sklearn.metrics import roc_curve, roc_auc_score\n",
    "\n",
    "\n",
    "# Generate predictions from the model\n",
    "Y_pred = model.predict(test_images)  # Assuming test_images is the input to the model\n",
    "Y_pred_classes = np.argmax(Y_pred, axis=1)  # Get class with the highest probability\n",
    "Y_true = np.argmax(test_labels, axis=1)  #  test_labels is one-hot encoded\n",
    "\n",
    "# Calculate ROC curve for both classes\n",
    "fpr_0, tpr_0, _ = roc_curve(Y_true, Y_pred[:, 0], pos_label=0)\n",
    "fpr_1, tpr_1, _ = roc_curve(Y_true, Y_pred[:, 1], pos_label=1)\n",
    "\n",
    "# Compute AUC for both classes\n",
    "roc_auc_0 = roc_auc_score(Y_true == 0, Y_pred[:, 0])\n",
    "roc_auc_1 = roc_auc_score(Y_true == 1, Y_pred[:, 1])\n",
    "\n",
    "# Plot ROC curves\n",
    "plt.figure(figsize=(8, 6))\n",
    "plt.plot(fpr_0, tpr_0, color='blue', lw=2, label=f'Non-cancer (area = {roc_auc_0:.2f})')\n",
    "plt.plot(fpr_1, tpr_1, color='red', lw=2, label=f'Cancer (area = {roc_auc_1:.2f})')\n",
    "\n",
    "# Diagonal line for random guessing\n",
    "plt.plot([0, 1], [0, 1], color='navy', lw=2, linestyle='--')\n",
    "\n",
    "# Labels and title\n",
    "plt.xlim([0.0, 1.0])\n",
    "plt.ylim([0.0, 1.05])\n",
    "plt.xlabel('False Positive Rate')\n",
    "plt.ylabel('True Positive Rate')\n",
    "plt.title('Receiver Operating Characteristic (ROC) Curve for Both Classes')\n",
    "plt.legend(loc=\"lower right\")\n",
    "\n",
    "# Show plot\n",
    "plt.show()\n"
   ]
  },
  {
   "cell_type": "code",
   "execution_count": 61,
   "id": "0f393519",
   "metadata": {},
   "outputs": [],
   "source": [
    "model.save('CBIS_CNN_ViT.h5')"
   ]
  },
  {
   "cell_type": "code",
   "execution_count": 62,
   "id": "7e7e9b5a",
   "metadata": {},
   "outputs": [],
   "source": [
    "model.save_weights('CBIS_CNN_ViT_weights.h5')"
   ]
  }
 ],
 "metadata": {
  "kernelspec": {
   "display_name": "Python 3 (ipykernel)",
   "language": "python",
   "name": "python3"
  },
  "language_info": {
   "codemirror_mode": {
    "name": "ipython",
    "version": 3
   },
   "file_extension": ".py",
   "mimetype": "text/x-python",
   "name": "python",
   "nbconvert_exporter": "python",
   "pygments_lexer": "ipython3",
   "version": "3.11.7"
  }
 },
 "nbformat": 4,
 "nbformat_minor": 5
}
